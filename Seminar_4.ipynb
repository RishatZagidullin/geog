{
 "cells": [
  {
   "cell_type": "markdown",
   "metadata": {},
   "source": [
    "# Numpy\n",
    "\n",
    "Самая большая библиотека для работы с массивами данных. Создаем массив с помощью функций `np.array()`, `np.ones()`, `np.zeros()`, `np.empty()`. В качестве аругументов функции принимают <span style=\"color:red\">**КОРТЕЖИ**</span> и/или <span style=\"color:red\">**СПИСКИ**</span>.\n",
    "\n",
    "```python\n",
    "import numpy as np\n",
    "\n",
    "#x - трехмерный массив 10х10х10 из нулей, аргумент - кортеж (потому что в скобочках)\n",
    "x = np.zeros((10, 10, 10))\n",
    "\n",
    "#y - матрица 5 на 20 из единиц, аргумент - кортеж (потому что в скобочках)\n",
    "y = np.ones((5,20))\n",
    "\n",
    "#z - одномерный массив из 4 элементов\n",
    "z = np.array([1,3,6,2])\n",
    "\n",
    "#a - массив 2 на 2 из чисел 1,2,4,5\n",
    "a = np.array([[1,2], [4,5]])\n",
    "```\n",
    "\n",
    "К элементам массива нужно обращаться через оператор `[]`. В квадратных скобках стоит порядковый номер элемента, который нужно вытащить из массива. Если массив N-мерный, то у каждого элемента порядковый номер состоит из N чисел. Например:\n",
    "\n",
    "```python\n",
    "import numpy as np\n",
    "\n",
    "#a - массив 2 на 2 из чисел 1,2,4,5\n",
    "a = np.array([[1,2], [4,5]])\n",
    "\n",
    "#на экране будет 1\n",
    "print(a[0][0])\n",
    "\n",
    "#на экране будет 1\n",
    "print(a[0, 0])\n",
    "```\n",
    "\n",
    "Чтобы узнать размерность массива, можно вызвать атрибут `shape`\n",
    "\n",
    "```python\n",
    "import numpy as np\n",
    "\n",
    "#a - массив 2 на 2 из чисел 1,2,4,5\n",
    "a = np.array([[1,2], [4,5]])\n",
    "\n",
    "#на экране будет (2,2)\n",
    "print(a.shape)\n",
    "```\n",
    "\n",
    "Еще есть функция `reshape` она позволяет менять размерности массивов:\n",
    "    \n",
    "```python\n",
    "import numpy as np\n",
    "\n",
    "a = np.arange(6).reshape((3, 2))\n",
    "```"
   ]
  },
  {
   "cell_type": "code",
   "execution_count": null,
   "metadata": {},
   "outputs": [],
   "source": []
  },
  {
   "cell_type": "markdown",
   "metadata": {},
   "source": [
    "# Полезные фунции для изменения массива\n",
    "\n",
    "1. `np.append()`;\n",
    "2. `np.insert()`;\n",
    "3. `np.concatenate()`;\n",
    "4. `np.delete()`.\n",
    "\n",
    "```python\n",
    "import numpy as np\n",
    "\n",
    "#в a хранится [1,2,3,4,5,6,7,8,9]\n",
    "a = np.append([1, 2, 3], [[4, 5, 6], [7, 8, 9]])\n",
    "\n",
    "#в b хранится [1,2,3,4,5,6,7,8,9, 0, 1]\n",
    "b = np.append(a, [0,1])\n",
    "\n",
    "#в c хранится [1 2 3 4 5 1 6 7 8 9]\n",
    "с = np.insert(a, 5, 1)\n",
    "\n",
    "#в d хранится [1 2 3 4 5 1 6 7 8 9]\n",
    "d = np.delete(c, 5)\n",
    "\n",
    "x = np.array([[1, 2], [3, 4]])\n",
    "y = np.array([[5, 6]])\n",
    "\n",
    "#в z хранится [[1, 2], [3, 4], [5, 6]]\n",
    "z = np.concatenate((a, b))\n",
    "```"
   ]
  },
  {
   "cell_type": "code",
   "execution_count": null,
   "metadata": {},
   "outputs": [],
   "source": []
  },
  {
   "cell_type": "markdown",
   "metadata": {},
   "source": [
    "# Модули linalg и random\n",
    "\n",
    "numpy.linalg - модуль для решения задач линейной алгебры. Можно умножать матрицы на матрицы, матрицы на вектора, находить обратную матрицу, находить ранг и т.д. Например, код ниже умножает матрицу на вектор:\n",
    "\n",
    "```python\n",
    "a = np.array([[ 5, 1 ,3], [ 1, 1 ,1], [ 1, 2 ,1]])\n",
    "b = np.array([1, 2, 3])\n",
    "print (np.dot(a, b))\n",
    "```\n",
    "\n",
    "с numpy.random - мы уже сталкивались, давайте посмотрим на несколько базовых способов генерировать случайные числа:\n",
    "\n",
    "```python\n",
    "\n",
    "#матрица 3 на 3 с рандомными целыми числами от -5 до 11\n",
    "np.random.randint(-5, 11, (3, 3))\n",
    "\n",
    "#матрица 2 на 2 с рандомными дробными числами от 0 до 1\n",
    "np.random.rand(2,2)\n",
    "\n",
    "#матрица 2 на 2 с рандомными дробными числами от -5 до 5\n",
    "10*np.random.random((2,2))-5\n",
    "print(int(x)+int(y))\n",
    "```"
   ]
  },
  {
   "cell_type": "code",
   "execution_count": null,
   "metadata": {},
   "outputs": [],
   "source": []
  },
  {
   "cell_type": "markdown",
   "metadata": {},
   "source": [
    "# Как ведут себя операторы с массивами\n",
    "\n",
    "Происходит поэлементное применение опрераторов"
   ]
  },
  {
   "cell_type": "code",
   "execution_count": null,
   "metadata": {},
   "outputs": [],
   "source": []
  },
  {
   "cell_type": "markdown",
   "metadata": {},
   "source": [
    "# Task 1\n",
    "\n",
    "1. Создать матрицу 6 на 8 со случайными дробными числами от 0 до 5.\n",
    "2. Транспонировать ее без использования вспомогательных функций\n",
    "3. Нагуглить функцию в `numpy` которая транспонирует матрицы и вызвать ее для нашей матрицы\n",
    "4. Сравнить результаты из пункта 2 и пункта 3"
   ]
  },
  {
   "cell_type": "code",
   "execution_count": null,
   "metadata": {},
   "outputs": [],
   "source": [
    " "
   ]
  },
  {
   "cell_type": "markdown",
   "metadata": {},
   "source": [
    "# Task 2\n",
    "\n",
    "1. Создать одномерный массив длины 100 со случайными целыми числами от 0 до 100\n",
    "2. Найти в `numpy` функцию для сортировки массивов\n",
    "3. С помощью этой функции отсортировать массив"
   ]
  },
  {
   "cell_type": "code",
   "execution_count": null,
   "metadata": {},
   "outputs": [],
   "source": []
  },
  {
   "cell_type": "markdown",
   "metadata": {},
   "source": [
    "# Task 3\n",
    "\n",
    "1. Найти в `numpy` функцию `roots()` и научиться ей пользоваться"
   ]
  },
  {
   "cell_type": "code",
   "execution_count": null,
   "metadata": {},
   "outputs": [],
   "source": []
  },
  {
   "cell_type": "markdown",
   "metadata": {},
   "source": [
    "# Task 4\n",
    "\n",
    "1. Решить систему из 10 линейных алгебраических уравнений с 10 неизвестными. Коэффициенты получить рандомно\n",
    "2. Можно пользоваться лишь фукнцией, которая обращает матрицу в `numpy`. Остальное надо сделать с помощью базового синтаксиса\n",
    "3. Выполните проверку что решение получено верное\n",
    "\n"
   ]
  },
  {
   "cell_type": "code",
   "execution_count": null,
   "metadata": {},
   "outputs": [],
   "source": []
  },
  {
   "cell_type": "markdown",
   "metadata": {},
   "source": [
    "# Task 5\n",
    "\n",
    "1. Загрузить картинку в массив\n",
    "2. Удалить из нее все кроме красного канала\n",
    "3. Удалить из нее все кроме зеленого канала\n",
    "4. Удалить из нее все кроме синего канала\n",
    "5. Как сделать картинку черно-белой?"
   ]
  },
  {
   "cell_type": "code",
   "execution_count": null,
   "metadata": {},
   "outputs": [],
   "source": []
  },
  {
   "cell_type": "code",
   "execution_count": null,
   "metadata": {},
   "outputs": [],
   "source": []
  }
 ],
 "metadata": {
  "kernelspec": {
   "display_name": "Python 3",
   "language": "python",
   "name": "python3"
  },
  "language_info": {
   "codemirror_mode": {
    "name": "ipython",
    "version": 3
   },
   "file_extension": ".py",
   "mimetype": "text/x-python",
   "name": "python",
   "nbconvert_exporter": "python",
   "pygments_lexer": "ipython3",
   "version": "3.8.5"
  }
 },
 "nbformat": 4,
 "nbformat_minor": 4
}
