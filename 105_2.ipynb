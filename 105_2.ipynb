{
 "cells": [
  {
   "cell_type": "markdown",
   "metadata": {},
   "source": [
    "# Задание 1\n",
    "\n",
    "1. Вывести на экран числа от 0 до 1000.\n",
    "2. Сделать так, чтобы числа были отделены пробелом, а не новой строчкой"
   ]
  },
  {
   "cell_type": "code",
   "execution_count": null,
   "metadata": {},
   "outputs": [],
   "source": []
  },
  {
   "cell_type": "markdown",
   "metadata": {},
   "source": [
    "# Задание 2\n",
    "\n",
    "1. Программа просит ввести целое число\n",
    "2. Далее программа печатает числа от 0 до 1000, которые делятся на это введенное число"
   ]
  },
  {
   "cell_type": "code",
   "execution_count": null,
   "metadata": {},
   "outputs": [],
   "source": []
  },
  {
   "cell_type": "markdown",
   "metadata": {},
   "source": [
    "# Задание 3\n",
    "\n",
    "1. Создать массив из случайных целых чисел (назовем его `total_array`)\n",
    "2. Создать два дополнительных массива: в одном из них только четные числа из `total_array`, в другом - только нечентные числа из `total_array`"
   ]
  },
  {
   "cell_type": "code",
   "execution_count": null,
   "metadata": {},
   "outputs": [],
   "source": []
  },
  {
   "cell_type": "markdown",
   "metadata": {},
   "source": [
    "# Задание 4\n",
    "\n",
    "1. Создать случайную матрицу (10 на 10)\n",
    "2. Транспонировать ее по **ПОБОЧНОЙ** диагонали (без использования вспомогательных функций)"
   ]
  },
  {
   "cell_type": "code",
   "execution_count": null,
   "metadata": {},
   "outputs": [],
   "source": []
  },
  {
   "cell_type": "markdown",
   "metadata": {},
   "source": [
    "# Задание 5\n",
    "\n",
    "1. Создать случайный одномерный массив (от -10 до 10, 100 чисел)\n",
    "2. Обнулить все отрицательные числа\n",
    "3. Вывести на экран массив до обнуления и после"
   ]
  },
  {
   "cell_type": "code",
   "execution_count": null,
   "metadata": {},
   "outputs": [],
   "source": []
  },
  {
   "cell_type": "markdown",
   "metadata": {},
   "source": [
    "# Задание 6\n",
    "\n",
    "1. Создать две матрицы (одна 2 на 5 а другая 5 на 2)\n",
    "2. Перемножить их (должна получиться матрица 2 на 2)\n",
    "3. Можно (но необязательно) пользоваться библиотечными функциями"
   ]
  },
  {
   "cell_type": "code",
   "execution_count": null,
   "metadata": {},
   "outputs": [],
   "source": []
  },
  {
   "cell_type": "markdown",
   "metadata": {},
   "source": [
    "# Задание 7\n",
    "\n",
    "1. Объяснить своими словами разницу между циклом `for` и циклом `while`.\n",
    "2. Придумать два примера с использованием этих видов циклов."
   ]
  },
  {
   "cell_type": "markdown",
   "metadata": {},
   "source": []
  },
  {
   "cell_type": "markdown",
   "metadata": {},
   "source": [
    "# Задание 8\n",
    "\n",
    "1. Объяснить своими словами за что отвечают ключевые слова `if`, `elif`, `else`.\n",
    "2. Придумать пример использования этих ключевых слов."
   ]
  },
  {
   "cell_type": "markdown",
   "metadata": {},
   "source": []
  },
  {
   "cell_type": "markdown",
   "metadata": {},
   "source": [
    "# Задание 9\n",
    "\n",
    "1. Создать матрицу 5 на 5\n",
    "2. Отсортировать ее по возрастанию\n",
    "\n",
    "**ПРИМЕР**:\n",
    "$$\n",
    "\\begin{pmatrix}\n",
    "6 & 1 & 9\\\\\n",
    "5 & 3 & -1\\\\\n",
    "4 & 15 & 8\n",
    "\\end{pmatrix}\n",
    "=>\n",
    "\\begin{pmatrix}\n",
    "-1 & 1 & 3\\\\\n",
    "4 & 5 & 6\\\\\n",
    "8 & 9 & 15\n",
    "\\end{pmatrix}\n",
    "$$\n",
    "\n"
   ]
  },
  {
   "cell_type": "code",
   "execution_count": null,
   "metadata": {},
   "outputs": [],
   "source": []
  },
  {
   "cell_type": "markdown",
   "metadata": {},
   "source": [
    "# Задание 10\n",
    "\n",
    "1. создать **ФУНКЦИЮ(!)** которая принимает аругментом 1 целое число (пусть будет `n`).\n",
    "2. далее функция возвращает `n`-ый элемент последовательности Фибоначи.\n",
    "3. вызвать данную функцию и вывести на экран результат\n",
    "4. если непонятно как сделать это в виде функции, тогда можно делать как обычно"
   ]
  },
  {
   "cell_type": "code",
   "execution_count": null,
   "metadata": {},
   "outputs": [],
   "source": []
  },
  {
   "cell_type": "markdown",
   "metadata": {},
   "source": [
    "# Задание 11\n",
    "\n",
    "1. Погуглить про np.linalg\n",
    "2. Сделать обзор (что это такое, какие функции там имеются) на этот модуль (но пишите только то, что вам самим понятно)"
   ]
  },
  {
   "cell_type": "code",
   "execution_count": null,
   "metadata": {},
   "outputs": [],
   "source": []
  },
  {
   "cell_type": "markdown",
   "metadata": {},
   "source": [
    "# Задание 12\n",
    "\n",
    "1. Загрузить картинку\n",
    "2. Обрезать ее пополам\n",
    "3. Сохранить обе полученные картинки (надо погуглить как это делается)"
   ]
  },
  {
   "cell_type": "code",
   "execution_count": null,
   "metadata": {},
   "outputs": [],
   "source": []
  },
  {
   "cell_type": "markdown",
   "metadata": {},
   "source": [
    "# Задание 13\n",
    "\n",
    "1. Вывести на экран функцию $sin(x)+sin(y)$ в виде картинки.\n",
    "2. Вывсети на экран функцию $sin(x+y)$ в виде картинки.\n",
    "\n",
    "($x,y$ это координаты пикселя по ширине и высоте картинки)"
   ]
  },
  {
   "cell_type": "code",
   "execution_count": null,
   "metadata": {},
   "outputs": [],
   "source": []
  }
 ],
 "metadata": {
  "kernelspec": {
   "display_name": "Python 3",
   "language": "python",
   "name": "python3"
  },
  "language_info": {
   "codemirror_mode": {
    "name": "ipython",
    "version": 3
   },
   "file_extension": ".py",
   "mimetype": "text/x-python",
   "name": "python",
   "nbconvert_exporter": "python",
   "pygments_lexer": "ipython3",
   "version": "3.8.5"
  }
 },
 "nbformat": 4,
 "nbformat_minor": 4
}
